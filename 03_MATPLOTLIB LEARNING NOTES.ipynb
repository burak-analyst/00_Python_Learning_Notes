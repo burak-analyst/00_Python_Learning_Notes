{
 "cells": [
  {
   "attachments": {},
   "cell_type": "markdown",
   "metadata": {},
   "source": [
    "# MATPLOTLIB LEARNING NOTES\n",
    "\n",
    "> CREATE DATE : 02.03.2023\n",
    "\n",
    "> AUTHOR : BURAK YILMAZ\n",
    "\n"
   ]
  },
  {
   "attachments": {},
   "cell_type": "markdown",
   "metadata": {},
   "source": [
    "##  **TABLE OF CONTENTS**\n",
    "\n",
    "1. CUSTOM FONTS AND THEMES\n",
    "1. BAR CHART\n",
    "1. LINE CHART\n",
    "1. PIE CHART\n",
    "1. SCATTER PLOT\n",
    "1. HISTOGRAM\n",
    "\n",
    "\n"
   ]
  },
  {
   "cell_type": "code",
   "execution_count": 8,
   "metadata": {},
   "outputs": [],
   "source": [
    "# import statements\n",
    "\n",
    "import pandas as pd\n",
    "import numpy as np\n",
    "import xlrd\n",
    "import matplotlib.pyplot as plt\n",
    "import matplotlib.font_manager as font_manager\n",
    "\n"
   ]
  },
  {
   "attachments": {},
   "cell_type": "markdown",
   "metadata": {},
   "source": [
    "EXAMPLE DATA"
   ]
  },
  {
   "cell_type": "code",
   "execution_count": 12,
   "metadata": {},
   "outputs": [],
   "source": [
    "# run this example data for the graphs\n",
    "\n",
    "data_url = 'http://bit.ly/2cLzoxH'\n",
    "df = pd.read_csv(data_url)\n"
   ]
  },
  {
   "cell_type": "code",
   "execution_count": 13,
   "metadata": {},
   "outputs": [
    {
     "data": {
      "text/html": [
       "<div>\n",
       "<style scoped>\n",
       "    .dataframe tbody tr th:only-of-type {\n",
       "        vertical-align: middle;\n",
       "    }\n",
       "\n",
       "    .dataframe tbody tr th {\n",
       "        vertical-align: top;\n",
       "    }\n",
       "\n",
       "    .dataframe thead th {\n",
       "        text-align: right;\n",
       "    }\n",
       "</style>\n",
       "<table border=\"1\" class=\"dataframe\">\n",
       "  <thead>\n",
       "    <tr style=\"text-align: right;\">\n",
       "      <th></th>\n",
       "      <th>country</th>\n",
       "      <th>year</th>\n",
       "      <th>pop</th>\n",
       "      <th>continent</th>\n",
       "      <th>lifeExp</th>\n",
       "      <th>gdpPercap</th>\n",
       "    </tr>\n",
       "  </thead>\n",
       "  <tbody>\n",
       "    <tr>\n",
       "      <th>0</th>\n",
       "      <td>Afghanistan</td>\n",
       "      <td>1952</td>\n",
       "      <td>8425333.0</td>\n",
       "      <td>Asia</td>\n",
       "      <td>28.801</td>\n",
       "      <td>779.445314</td>\n",
       "    </tr>\n",
       "    <tr>\n",
       "      <th>1</th>\n",
       "      <td>Afghanistan</td>\n",
       "      <td>1957</td>\n",
       "      <td>9240934.0</td>\n",
       "      <td>Asia</td>\n",
       "      <td>30.332</td>\n",
       "      <td>820.853030</td>\n",
       "    </tr>\n",
       "    <tr>\n",
       "      <th>2</th>\n",
       "      <td>Afghanistan</td>\n",
       "      <td>1962</td>\n",
       "      <td>10267083.0</td>\n",
       "      <td>Asia</td>\n",
       "      <td>31.997</td>\n",
       "      <td>853.100710</td>\n",
       "    </tr>\n",
       "    <tr>\n",
       "      <th>3</th>\n",
       "      <td>Afghanistan</td>\n",
       "      <td>1967</td>\n",
       "      <td>11537966.0</td>\n",
       "      <td>Asia</td>\n",
       "      <td>34.020</td>\n",
       "      <td>836.197138</td>\n",
       "    </tr>\n",
       "    <tr>\n",
       "      <th>4</th>\n",
       "      <td>Afghanistan</td>\n",
       "      <td>1972</td>\n",
       "      <td>13079460.0</td>\n",
       "      <td>Asia</td>\n",
       "      <td>36.088</td>\n",
       "      <td>739.981106</td>\n",
       "    </tr>\n",
       "  </tbody>\n",
       "</table>\n",
       "</div>"
      ],
      "text/plain": [
       "       country  year         pop continent  lifeExp   gdpPercap\n",
       "0  Afghanistan  1952   8425333.0      Asia   28.801  779.445314\n",
       "1  Afghanistan  1957   9240934.0      Asia   30.332  820.853030\n",
       "2  Afghanistan  1962  10267083.0      Asia   31.997  853.100710\n",
       "3  Afghanistan  1967  11537966.0      Asia   34.020  836.197138\n",
       "4  Afghanistan  1972  13079460.0      Asia   36.088  739.981106"
      ]
     },
     "execution_count": 13,
     "metadata": {},
     "output_type": "execute_result"
    }
   ],
   "source": [
    "df.head()"
   ]
  },
  {
   "attachments": {},
   "cell_type": "markdown",
   "metadata": {},
   "source": [
    " ### 1) CUSTOM FONTS AND THEMES"
   ]
  },
  {
   "cell_type": "code",
   "execution_count": 4,
   "metadata": {},
   "outputs": [],
   "source": [
    "# different fonts. customise the color and the size and the location\n",
    " \n",
    "font1  = {'family':'serif','color':'black','size':20}\n",
    "font2  = {'family':'verdana','color':'black','size':20} \n",
    "font3  = {'family':'Segoe Print','color':'blue','size':20} # informal\n",
    "font4  = {'family':'Arial Rounded MT Bold','color':'blue','size':20}\n",
    "font5  = {'family':'Calibri','color':'blue','size':20}\n",
    "font6  = {'family':'Times New Roman','color':'blue','size':20}\n",
    "font7  = {'family':'Tahoma','color':'blue','size':20}\n",
    "font8  = {'family':'Microsoft Sans Serif','color':'blue','size':20}\n",
    "font9  = {'family':'Segoe UI','color':'blue','size':20}\n",
    "font10_ = {'family':'Perpetua','color':'blue','size':40}\n",
    "font11 = {'family':'Candara','color':'blue','size':20}\n",
    "font13 = {'family':'Corbel','color':'blue','size':20}\n"
   ]
  },
  {
   "cell_type": "code",
   "execution_count": null,
   "metadata": {},
   "outputs": [],
   "source": [
    " # run to see available font names in matplotlib: \n",
    "fpaths = font_manager.findSystemFonts()\n",
    "\n",
    "fontlist = []\n",
    "\n",
    "for i in fpaths:\n",
    "    f = font_manager.get_font(i)\n",
    "    fontlist.append(f.family_name)\n",
    "\n",
    "    \n",
    "fontlist = list(dict.fromkeys(fontlist))    \n",
    "fontlist.sort()    \n",
    "    \n",
    "for font in fontlist:\n",
    "    print(font)\n",
    "\n"
   ]
  },
  {
   "attachments": {},
   "cell_type": "markdown",
   "metadata": {},
   "source": [
    "[Colormaps in Matplotlib](https://matplotlib.org/stable/tutorials/colors/colormaps.html)"
   ]
  },
  {
   "attachments": {},
   "cell_type": "markdown",
   "metadata": {},
   "source": [
    " ### 2) BAR CHART"
   ]
  },
  {
   "cell_type": "code",
   "execution_count": 21,
   "metadata": {},
   "outputs": [
    {
     "data": {
      "text/html": [
       "<div>\n",
       "<style scoped>\n",
       "    .dataframe tbody tr th:only-of-type {\n",
       "        vertical-align: middle;\n",
       "    }\n",
       "\n",
       "    .dataframe tbody tr th {\n",
       "        vertical-align: top;\n",
       "    }\n",
       "\n",
       "    .dataframe thead th {\n",
       "        text-align: right;\n",
       "    }\n",
       "</style>\n",
       "<table border=\"1\" class=\"dataframe\">\n",
       "  <thead>\n",
       "    <tr style=\"text-align: right;\">\n",
       "      <th></th>\n",
       "      <th>country</th>\n",
       "      <th>lifeExp</th>\n",
       "    </tr>\n",
       "  </thead>\n",
       "  <tbody>\n",
       "    <tr>\n",
       "      <th>0</th>\n",
       "      <td>Afghanistan</td>\n",
       "      <td>37.478833</td>\n",
       "    </tr>\n",
       "    <tr>\n",
       "      <th>1</th>\n",
       "      <td>Albania</td>\n",
       "      <td>68.432917</td>\n",
       "    </tr>\n",
       "    <tr>\n",
       "      <th>2</th>\n",
       "      <td>Algeria</td>\n",
       "      <td>59.030167</td>\n",
       "    </tr>\n",
       "    <tr>\n",
       "      <th>3</th>\n",
       "      <td>Angola</td>\n",
       "      <td>37.883500</td>\n",
       "    </tr>\n",
       "    <tr>\n",
       "      <th>4</th>\n",
       "      <td>Argentina</td>\n",
       "      <td>69.060417</td>\n",
       "    </tr>\n",
       "    <tr>\n",
       "      <th>...</th>\n",
       "      <td>...</td>\n",
       "      <td>...</td>\n",
       "    </tr>\n",
       "    <tr>\n",
       "      <th>137</th>\n",
       "      <td>Vietnam</td>\n",
       "      <td>57.479500</td>\n",
       "    </tr>\n",
       "    <tr>\n",
       "      <th>138</th>\n",
       "      <td>West Bank and Gaza</td>\n",
       "      <td>60.328667</td>\n",
       "    </tr>\n",
       "    <tr>\n",
       "      <th>139</th>\n",
       "      <td>Yemen Rep.</td>\n",
       "      <td>46.780417</td>\n",
       "    </tr>\n",
       "    <tr>\n",
       "      <th>140</th>\n",
       "      <td>Zambia</td>\n",
       "      <td>45.996333</td>\n",
       "    </tr>\n",
       "    <tr>\n",
       "      <th>141</th>\n",
       "      <td>Zimbabwe</td>\n",
       "      <td>52.663167</td>\n",
       "    </tr>\n",
       "  </tbody>\n",
       "</table>\n",
       "<p>142 rows × 2 columns</p>\n",
       "</div>"
      ],
      "text/plain": [
       "                country    lifeExp\n",
       "0           Afghanistan  37.478833\n",
       "1               Albania  68.432917\n",
       "2               Algeria  59.030167\n",
       "3                Angola  37.883500\n",
       "4             Argentina  69.060417\n",
       "..                  ...        ...\n",
       "137             Vietnam  57.479500\n",
       "138  West Bank and Gaza  60.328667\n",
       "139          Yemen Rep.  46.780417\n",
       "140              Zambia  45.996333\n",
       "141            Zimbabwe  52.663167\n",
       "\n",
       "[142 rows x 2 columns]"
      ]
     },
     "metadata": {},
     "output_type": "display_data"
    }
   ],
   "source": [
    "bar_data = df.groupby(\"country\", as_index= False)[\"lifeExp\"].mean()\n",
    "display(bar_data)"
   ]
  },
  {
   "cell_type": "code",
   "execution_count": 52,
   "metadata": {},
   "outputs": [
    {
     "data": {
      "image/png": "[encoded data removed]",
      "text/plain": [
       "<Figure size 2000x800 with 1 Axes>"
      ]
     },
     "metadata": {},
     "output_type": "display_data"
    }
   ],
   "source": [
    "\n",
    "# BAR CHART DATA PREP\n",
    "bar_data = df.groupby(\"country\", as_index= False)[\"lifeExp\"].mean().sort_values(by=\"lifeExp\", ascending= False)\n",
    "\n",
    "x = bar_data.nlargest(10, 'lifeExp', keep='first').sort_values(by='lifeExp', ascending=False)['country']\n",
    "y = bar_data.nlargest(10, 'lifeExp', keep='first').sort_values(by='lifeExp', ascending=False)['lifeExp'].round(decimals = 2)\n",
    "\n",
    "\n",
    "\n",
    "# SET THE SIZE FOR THE GRAPH\n",
    "plt.figure(figsize=(20, 8))\n",
    "\n",
    "\n",
    "# TITLE FOR THE GRAPH\n",
    "plt.title(\"Average Life Expectancy by Countries\",\n",
    "          fontdict = font10_,\n",
    "          loc='center'\n",
    "          )\n",
    "\n",
    "\n",
    "# X AXIS LABEL  (use rotation and loc to customize axis labels)\n",
    "plt.xlabel(\"Country\", fontdict= font2, fontsize=15)\n",
    "\n",
    "\n",
    "# Y AXIS LABEL  (use rotation and loc to customize axis labels)\n",
    "plt.ylabel(\"Life Expectancy\",\n",
    "           loc=\"top\",\n",
    "           rotation='horizontal',\n",
    "           fontdict= font2,\n",
    "           fontsize=15\n",
    "           )\n",
    "\n",
    "\n",
    "# ASSIGN A COLOR MAP\n",
    "#my_cmap = plt.cm.get_cmap('RdYlGn', 10)\n",
    "\n",
    "\n",
    "\n",
    "# USE XTICKS FOR OVERLAPPING LABELS\n",
    "plt.xticks(rotation = 45)\n",
    "\n",
    "\n",
    "# INITIATE THE CHART. use the colormap with this code\n",
    "plt.bar(x, y )\n",
    "\n",
    "\n",
    "\n",
    "# TO SHOW DATA LABELS ON THE GRAPH. PLACE IT AFTER plt.bar()\n",
    "for x, y in enumerate(y):\n",
    "    plt.text(x, y,\n",
    "             str(y),\n",
    "             fontsize=11,\n",
    "             bbox=dict(facecolor='c', alpha=0.5),\n",
    "             fontweight=\"bold\",\n",
    "             ha='center',\n",
    "             va='center'\n",
    "             )\n",
    "\n",
    "# TIGHT LAYOUT (optional)\n",
    "plt.tight_layout()\n",
    "\n",
    "\n",
    "# SHOW THE CHART\n",
    "plt.show()\n",
    "\n",
    "# one of the default formal chart style :  plt.style.use(\"fivethirtyeight\")\n",
    "\n"
   ]
  },
  {
   "cell_type": "code",
   "execution_count": null,
   "metadata": {},
   "outputs": [],
   "source": []
  },
  {
   "cell_type": "code",
   "execution_count": null,
   "metadata": {},
   "outputs": [],
   "source": []
  },
  {
   "cell_type": "code",
   "execution_count": null,
   "metadata": {},
   "outputs": [],
   "source": []
  },
  {
   "cell_type": "code",
   "execution_count": null,
   "metadata": {},
   "outputs": [],
   "source": []
  },
  {
   "cell_type": "code",
   "execution_count": null,
   "metadata": {},
   "outputs": [],
   "source": []
  },
  {
   "cell_type": "code",
   "execution_count": null,
   "metadata": {},
   "outputs": [],
   "source": []
  },
  {
   "cell_type": "code",
   "execution_count": null,
   "metadata": {},
   "outputs": [],
   "source": []
  },
  {
   "attachments": {},
   "cell_type": "markdown",
   "metadata": {},
   "source": [
    " ### 3) LINE CHART"
   ]
  },
  {
   "cell_type": "code",
   "execution_count": null,
   "metadata": {},
   "outputs": [],
   "source": []
  },
  {
   "cell_type": "code",
   "execution_count": null,
   "metadata": {},
   "outputs": [],
   "source": []
  },
  {
   "cell_type": "code",
   "execution_count": null,
   "metadata": {},
   "outputs": [],
   "source": []
  },
  {
   "cell_type": "code",
   "execution_count": null,
   "metadata": {},
   "outputs": [],
   "source": []
  },
  {
   "attachments": {},
   "cell_type": "markdown",
   "metadata": {},
   "source": [
    " ### 4) PIE CHART"
   ]
  },
  {
   "cell_type": "code",
   "execution_count": null,
   "metadata": {},
   "outputs": [],
   "source": []
  },
  {
   "cell_type": "code",
   "execution_count": null,
   "metadata": {},
   "outputs": [],
   "source": []
  },
  {
   "cell_type": "code",
   "execution_count": null,
   "metadata": {},
   "outputs": [],
   "source": []
  },
  {
   "attachments": {},
   "cell_type": "markdown",
   "metadata": {},
   "source": [
    " ### 5) SCATTER PLOT"
   ]
  },
  {
   "cell_type": "code",
   "execution_count": null,
   "metadata": {},
   "outputs": [],
   "source": []
  },
  {
   "cell_type": "code",
   "execution_count": null,
   "metadata": {},
   "outputs": [],
   "source": []
  },
  {
   "cell_type": "code",
   "execution_count": null,
   "metadata": {},
   "outputs": [],
   "source": []
  },
  {
   "cell_type": "code",
   "execution_count": null,
   "metadata": {},
   "outputs": [],
   "source": []
  },
  {
   "cell_type": "code",
   "execution_count": null,
   "metadata": {},
   "outputs": [],
   "source": []
  },
  {
   "cell_type": "code",
   "execution_count": null,
   "metadata": {},
   "outputs": [],
   "source": []
  },
  {
   "attachments": {},
   "cell_type": "markdown",
   "metadata": {},
   "source": [
    " ### 6) HISTOGRAM"
   ]
  },
  {
   "cell_type": "code",
   "execution_count": null,
   "metadata": {},
   "outputs": [],
   "source": []
  },
  {
   "cell_type": "code",
   "execution_count": null,
   "metadata": {},
   "outputs": [],
   "source": []
  }
 ],
 "metadata": {
  "kernelspec": {
   "display_name": "Python 3",
   "language": "python",
   "name": "python3"
  },
  "language_info": {
   "codemirror_mode": {
    "name": "ipython",
    "version": 3
   },
   "file_extension": ".py",
   "mimetype": "text/x-python",
   "name": "python",
   "nbconvert_exporter": "python",
   "pygments_lexer": "ipython3",
   "version": "3.10.8"
  },
  "orig_nbformat": 4,
  "vscode": {
   "interpreter": {
    "hash": "06fc0a7d8e562541745d7b36613ba10301b07ff693e09dfdd66d0aba5ccb1175"
   }
  }
 },
 "nbformat": 4,
 "nbformat_minor": 2
}
