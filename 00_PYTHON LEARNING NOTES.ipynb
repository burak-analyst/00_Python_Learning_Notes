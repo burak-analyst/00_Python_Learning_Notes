{
 "cells": [
  {
   "attachments": {},
   "cell_type": "markdown",
   "metadata": {},
   "source": [
    "# PYTHON  LEARNING NOTES\n",
    "\n",
    "> AUTHOR : BURAK YILMAZ\n",
    "\n",
    "> CREATE DATE : JANUARY 2023\n",
    "\n",
    "[Visit our blog for more Python Tutorials and Tips](https://bifiblogs.blogspot.com/)"
   ]
  },
  {
   "attachments": {},
   "cell_type": "markdown",
   "metadata": {},
   "source": [
    "## TABLE OF CONTENTS"
   ]
  },
  {
   "attachments": {},
   "cell_type": "markdown",
   "metadata": {},
   "source": [
    "1. PYTHON BASICS\n",
    "1. VARIABLES\n",
    "1. DATA TYPES\n",
    "1. NUMBERS\n",
    "1. STRING\n",
    "1. OPERATORS\n",
    "1. LIST\n",
    "1. TUPLE\n",
    "1. SET\n",
    "1. DICTIONARY\n",
    "1. IF ELSE\n",
    "1. FUNCTIONS\n",
    "1. DATES\n",
    "1. FILE HANDLING\n",
    "\n"
   ]
  },
  {
   "attachments": {},
   "cell_type": "markdown",
   "metadata": {},
   "source": [
    "### 1) PYTHON BASICS"
   ]
  },
  {
   "cell_type": "code",
   "execution_count": 2,
   "metadata": {},
   "outputs": [
    {
     "name": "stdout",
     "output_type": "stream",
     "text": [
      "Hello World!\n"
     ]
    }
   ],
   "source": [
    "print(\"Hello World!\")"
   ]
  },
  {
   "attachments": {},
   "cell_type": "markdown",
   "metadata": {},
   "source": [
    "To use comments in Python, use # symbol"
   ]
  },
  {
   "cell_type": "code",
   "execution_count": 3,
   "metadata": {},
   "outputs": [
    {
     "name": "stdout",
     "output_type": "stream",
     "text": [
      "Hello, World!\n"
     ]
    }
   ],
   "source": [
    "print(\"Hello, World!\") #This is a comment"
   ]
  },
  {
   "cell_type": "code",
   "execution_count": 4,
   "metadata": {},
   "outputs": [
    {
     "data": {
      "text/plain": [
       "' \\nthis is a \\nmulti line\\ncomment\\n'"
      ]
     },
     "execution_count": 4,
     "metadata": {},
     "output_type": "execute_result"
    }
   ],
   "source": [
    "\"\"\" \n",
    "this is a \n",
    "multi line\n",
    "comment\n",
    "\"\"\""
   ]
  },
  {
   "attachments": {},
   "cell_type": "markdown",
   "metadata": {},
   "source": [
    "### 2) VARIABLES"
   ]
  },
  {
   "cell_type": "code",
   "execution_count": null,
   "metadata": {},
   "outputs": [],
   "source": [
    "# Python has no command for declaring a variable.\n",
    "\n",
    "# A variable is created the moment you first assign a value to it.\n",
    "\n",
    "x = 5\n",
    "y = \"John\"\n",
    "print(x)\n",
    "print(y)"
   ]
  },
  {
   "cell_type": "code",
   "execution_count": 6,
   "metadata": {},
   "outputs": [
    {
     "name": "stdout",
     "output_type": "stream",
     "text": [
      "<class 'str'>\n",
      "<class 'int'>\n",
      "<class 'float'>\n"
     ]
    }
   ],
   "source": [
    "# Variables do not need to be declared with any particular type, and can even change type after they have been set.\n",
    "\n",
    "x = 4       # x is of type int\n",
    "x = \"Sally\" # x is now of type str\n",
    "\n",
    "\n",
    "# If you want to specify the data type of a variable, this can be done with casting.\n",
    "\n",
    "x = str(3)    # x will be '3'\n",
    "y = int(3)    # y will be 3\n",
    "z = float(3)  # z will be 3.0\n",
    "\n",
    "\n",
    "# You can get the data type of a variable with the type() function.\n",
    "\n",
    "print(type(x))\n",
    "print(type(y))\n",
    "print(type(z))\n"
   ]
  },
  {
   "cell_type": "code",
   "execution_count": 7,
   "metadata": {},
   "outputs": [],
   "source": [
    "# Variable names are case-sensitive\n",
    "# This will create two variables:\n",
    "a = 4\n",
    "A = \"Sally\"\n",
    "#A will not overwrite a\n"
   ]
  },
  {
   "attachments": {},
   "cell_type": "markdown",
   "metadata": {},
   "source": [
    "> A variable can have a short name (like x and y) or a more descriptive name (age, carname, total_volume). Rules for Python variables:\n",
    "\n",
    "- A variable name must start with a letter or the underscore character\n",
    "\n",
    "- A variable name cannot start with a number\n",
    "\n",
    "- A variable name can only contain alpha-numeric characters and underscores (A-z, 0-9, and _ )\n",
    "\n",
    "- Variable names are case-sensitive (age, Age and AGE are three different variables)"
   ]
  },
  {
   "attachments": {},
   "cell_type": "markdown",
   "metadata": {},
   "source": [
    "> Legal variable names:\n",
    "\n",
    "- myvar = \"John\"\n",
    "\n",
    "- my_var = \"John\"\n",
    "\n",
    "- _my_var = \"John\"\n",
    "\n",
    "- myVar = \"John\"\n",
    "\n",
    "- MYVAR = \"John\"\n",
    "\n",
    "- myvar2 = \"John\"\n",
    "\n",
    "` Illegal variable names`\n",
    "\n",
    "- ` 2myvar = \"John\"`\n",
    "\n",
    "- ` my-var = \"John\"`\n",
    "\n",
    "- ` Illegal variable names`\n",
    "\n",
    "- ` my var = \"John\"`\n",
    "\n"
   ]
  },
  {
   "cell_type": "code",
   "execution_count": null,
   "metadata": {},
   "outputs": [],
   "source": [
    "# Python allows you to assign values to multiple variables in one line:\n",
    "# Example\n",
    "x, y, z = \"Orange\", \"Banana\", \"Cherry\"\n",
    "print(x)\n",
    "print(y)\n",
    "print(z)\n",
    "\n",
    "\n",
    "# And you can assign the same value to multiple variables in one line:\n",
    "#Example\n",
    "x = y = z = \"Orange\"\n",
    "print(x)\n",
    "print(y)\n",
    "print(z)\n"
   ]
  },
  {
   "attachments": {},
   "cell_type": "markdown",
   "metadata": {},
   "source": [
    "### 3) DATA TYPES"
   ]
  },
  {
   "attachments": {},
   "cell_type": "markdown",
   "metadata": {},
   "source": [
    "> Python has the following data types built-in by default, in these categories:\n",
    "\n",
    "- > Text Type:\tstr\n",
    "\n",
    "- > Numeric Types:\tint, float, complex\n",
    "\n",
    "- > Sequence Types:\tlist, tuple, range\n",
    "\n",
    "- > Mapping Type:\tdict\n",
    "\n",
    "- > Set Types:\tset, frozenset\n",
    "\n",
    "- > Boolean Type:\tbool\n",
    "\n",
    "- > Binary Types:\tbytes, bytearray, memoryview\n",
    "\n",
    "- > None Type:\tNoneType"
   ]
  },
  {
   "cell_type": "code",
   "execution_count": null,
   "metadata": {},
   "outputs": [],
   "source": [
    "# Print the data type of the variable x:\n",
    "\n",
    "x = 5\n",
    "print(type(x))"
   ]
  },
  {
   "attachments": {},
   "cell_type": "markdown",
   "metadata": {},
   "source": [
    "### 4) NUMBERS"
   ]
  },
  {
   "cell_type": "code",
   "execution_count": null,
   "metadata": {},
   "outputs": [],
   "source": [
    "# There are three numeric types in Python:\n",
    "\n",
    "int\n",
    "float\n",
    "complex\n",
    "\n",
    "# Variables of numeric types are created when you assign a value to them:\n",
    "x = 1    # int\n",
    "y = 2.8  # float\n",
    "z = 1j   # complex"
   ]
  },
  {
   "cell_type": "code",
   "execution_count": null,
   "metadata": {},
   "outputs": [],
   "source": [
    "# Int, or integer, is a whole number, positive or negative, without decimals, of unlimited length.\n",
    "x = 1\n",
    "y = 35656222554887711\n",
    "z = -3255522\n",
    "\n",
    "\n",
    "# Float, or \"floating point number\" is a number, positive or negative, containing one or more decimals.\n",
    "x = 1.10\n",
    "y = 1.0\n",
    "z = -35.59\n",
    "\n",
    "\n",
    "# Float can also be scientific numbers with an \"e\" to indicate the power of 10.\n",
    "x = 35e3\n",
    "y = 12E4\n",
    "z = -87.7e100\n",
    "\n",
    "\n",
    "# Complex numbers are written with a \"j\" as the imaginary part:\n",
    "x = 3+5j\n",
    "y = 5j\n",
    "z = -5j"
   ]
  },
  {
   "cell_type": "code",
   "execution_count": null,
   "metadata": {},
   "outputs": [],
   "source": [
    "# You can convert from one type to another with the int(), float(), and complex() methods:\n",
    "\n",
    "# Convert from one type to another:\n",
    "\n",
    "x = 1    # int\n",
    "y = 2.8  # float\n",
    "z = 1j   # complex\n",
    "\n",
    "#convert from int to float:\n",
    "a = float(x)\n",
    "\n",
    "#convert from float to int:\n",
    "b = int(y)\n",
    "\n",
    "#convert from int to complex:\n",
    "c = complex(x)\n"
   ]
  },
  {
   "attachments": {},
   "cell_type": "markdown",
   "metadata": {},
   "source": [
    "### 5) STRING"
   ]
  },
  {
   "cell_type": "code",
   "execution_count": null,
   "metadata": {},
   "outputs": [],
   "source": [
    "# 'hello' is the same as \"hello\".\n",
    "\n",
    "# You can use three double quotes:\n",
    "\n",
    "a = \"\"\"Lorem ipsum dolor sit amet,\n",
    "consectetur adipiscing elit,\n",
    "sed do eiusmod tempor incididunt\n",
    "ut labore et dolore magna aliqua.\"\"\""
   ]
  },
  {
   "cell_type": "code",
   "execution_count": null,
   "metadata": {},
   "outputs": [],
   "source": [
    "# Get the character at position 1 (remember that the first character has the position 0):\n",
    "\n",
    "a = \"Hello, World!\"\n",
    "print(a[1])"
   ]
  },
  {
   "cell_type": "code",
   "execution_count": null,
   "metadata": {},
   "outputs": [],
   "source": [
    "# The len() function returns the length of a string:\n",
    "\n",
    "a = \"Hello, World!\"\n",
    "print(len(a))"
   ]
  },
  {
   "cell_type": "code",
   "execution_count": null,
   "metadata": {},
   "outputs": [],
   "source": [
    "# Check if \"free\" is present in the following text:\n",
    "\n",
    "txt = \"The best things in life are free!\"\n",
    "print(\"free\" in txt)"
   ]
  },
  {
   "cell_type": "code",
   "execution_count": null,
   "metadata": {},
   "outputs": [],
   "source": [
    "# You can return a range of characters by using the slice syntax.\n",
    "\n",
    "# Specify the start index and the end index, separated by a colon, to return a part of the string.\n",
    "\n",
    "# Get the characters from position 2 to position 5 (not included):\n",
    "b = \"Hello, World!\"\n",
    "print(b[2:5])\n",
    "\n",
    "\n",
    "# Get the characters from the start to position 5 (not included):\n",
    "b = \"Hello, World!\"\n",
    "print(b[:5])\n",
    "\n",
    "\n",
    "# Get the characters from position 2, and all the way to the end:\n",
    "b = \"Hello, World!\"\n",
    "print(b[2:])\n",
    "\n"
   ]
  },
  {
   "cell_type": "code",
   "execution_count": null,
   "metadata": {},
   "outputs": [],
   "source": [
    "# The upper() method returns the string in upper case:\n",
    "a = \"Hello, World!\"\n",
    "print(a.upper())\n",
    "\n",
    "\n",
    "# The lower() method returns the string in lower case:\n",
    "b = \"Hello, World!\"\n",
    "print(b.lower())\n",
    "\n",
    "\n",
    "# The strip() method removes any whitespace from the beginning or the end:\n",
    "c = \" Hello, World! \"\n",
    "print(c.strip()) # returns \"Hello, World!\"\n",
    "\n",
    "\n",
    "# The replace() method replaces a string with another string:\n",
    "d = \"Hello, World!\"\n",
    "print(d.replace(\"H\", \"J\"))\n",
    "\n",
    "\n",
    "# The split() method splits the string into substrings if it finds instances of the separator:\n",
    "e = \"Hello, World!\"\n",
    "print(e.split(\",\")) # returns ['Hello', ' World!']\n"
   ]
  },
  {
   "cell_type": "code",
   "execution_count": null,
   "metadata": {},
   "outputs": [],
   "source": [
    "# To concatenate, or combine, two strings you can use the + operator.\n",
    "a = \"Hello\"\n",
    "b = \"World\"\n",
    "c = a + b\n",
    "print(c)\n",
    "\n",
    "# To add a space between them, add a \" \"\n",
    "a = \"Hello\"\n",
    "b = \"World\"\n",
    "c = a + \" \" + b\n",
    "print(c)"
   ]
  },
  {
   "cell_type": "code",
   "execution_count": null,
   "metadata": {},
   "outputs": [],
   "source": [
    "# Use the format() method to insert numbers into strings:\n",
    "\n",
    "age = 36\n",
    "txt = \"My name is John, and I am {}\"\n",
    "print(txt.format(age))\n",
    "\n",
    "\n",
    "# The format() method takes unlimited number of arguments, and are placed into the respective placeholders:\n",
    "quantity = 3\n",
    "itemno = 567\n",
    "price = 49.95\n",
    "myorder = \"I want {} pieces of item {} for {} dollars.\"\n",
    "print(myorder.format(quantity, itemno, price))"
   ]
  },
  {
   "cell_type": "code",
   "execution_count": null,
   "metadata": {},
   "outputs": [],
   "source": [
    "# You will get an error if you use double quotes inside a string that is surrounded by double quotes:\n",
    "# txt = \"We are the so-called \"Vikings\" from the north.\"\n",
    "\n",
    "# To fix this problem, use the escape character \\\":\n",
    "# The escape character allows you to use double quotes when you normally would not be allowed:\n",
    "\n",
    "txt = \"We are the so-called \\\"Vikings\\\" from the north.\"\n",
    "\n",
    "#   \\n\tNew Line\n",
    "#   \\'\tSingle Quote"
   ]
  },
  {
   "attachments": {},
   "cell_type": "markdown",
   "metadata": {},
   "source": [
    "| STRING  METHODS        | DEFINITION                                                                                    |\n",
    "|----------------|-----------------------------------------------------------------------------------------------|\n",
    "| capitalize()   | Converts the first character to upper case                                                    |\n",
    "| casefold()     | Converts string into lower case                                                               |\n",
    "| center()       | Returns a centered string                                                                     |\n",
    "| count()        | Returns the number of times a specified value occurs in a string                              |\n",
    "| encode()       | Returns an encoded version of the string                                                      |\n",
    "| endswith()     | Returns true if the string ends with the specified value                                      |\n",
    "| expandtabs()   | Sets the tab size of the string                                                               |\n",
    "| find()         | Searches the string for a specified value and returns the position of where it was found      |\n",
    "| format()       | Formats specified values in a string                                                          |\n",
    "| format_map()   | Formats specified values in a string                                                          |\n",
    "| index()        | Searches the string for a specified value and returns the position of where it was found      |\n",
    "| isalnum()      | Returns True if all characters in the string are alphanumeric                                 |\n",
    "| isalpha()      | Returns True if all characters in the string are in the alphabet                              |\n",
    "| isdecimal()    | Returns True if all characters in the string are decimals                                     |\n",
    "| isdigit()      | Returns True if all characters in the string are digits                                       |\n",
    "| isidentifier() | Returns True if the string is an identifier                                                   |\n",
    "| islower()      | Returns True if all characters in the string are lower case                                   |\n",
    "| isnumeric()    | Returns True if all characters in the string are numeric                                      |\n",
    "| isprintable()  | Returns True if all characters in the string are printable                                    |\n",
    "| isspace()      | Returns True if all characters in the string are whitespaces                                  |\n",
    "| istitle()      | Returns True if the string follows the rules of a title                                       |\n",
    "| isupper()      | Returns True if all characters in the string are upper case                                   |\n",
    "| join()         | Joins the elements of an iterable to the end of the string                                    |\n",
    "| ljust()        | Returns a left justified version of the string                                                |\n",
    "| lower()        | Converts a string into lower case                                                             |\n",
    "| lstrip()       | Returns a left trim version of the string                                                     |\n",
    "| replace()      | Returns a string where a specified value is replaced with a specified value                   |\n",
    "| rfind()        | Searches the string for a specified value and returns the last position of where it was found |\n",
    "| rpartition()   | Returns a tuple where the string is parted into three parts                                   |\n",
    "| rsplit()       | Splits the string at the specified separator, and returns a list                              |\n",
    "| rstrip()       | Returns a right trim version of the string                                                    |\n",
    "| split()        | Splits the string at the specified separator, and returns a list                              |\n",
    "| splitlines()   | Splits the string at line breaks and returns a list                                           |\n",
    "| startswith()   | Returns true if the string starts with the specified value                                    |\n",
    "| strip()        | Returns a trimmed version of the string                                                       |\n",
    "| swapcase()     | Swaps cases, lower case becomes upper case and vice versa                                     |\n",
    "| title()        | Converts the first character of each word to upper case                                       |\n",
    "| translate()    | Returns a translated string                                                                   |\n",
    "| upper()        | Converts a string into upper case                                                             |\n",
    "| zfill()        | Fills the string with a specified number of 0 values at the beginning                         |"
   ]
  },
  {
   "attachments": {},
   "cell_type": "markdown",
   "metadata": {},
   "source": [
    "### 6) OPERATORS"
   ]
  },
  {
   "attachments": {},
   "cell_type": "markdown",
   "metadata": {},
   "source": [
    "| OPERATOR | NAME           | EXAMPLE |\n",
    "|----------|----------------|---------|\n",
    "| +        | Addition       | x + y   |\n",
    "| -        | Subtraction    | x - y   |\n",
    "| *        | Multiplication | x * y   |\n",
    "| /        | Division       | x / y   |\n",
    "| %        | Modulus        | x % y   |\n",
    "| **       | Exponentiation | x ** y  |\n",
    "| //       | Floor division | x // y  |\n",
    "\n"
   ]
  },
  {
   "attachments": {},
   "cell_type": "markdown",
   "metadata": {},
   "source": [
    "### 7) LIST"
   ]
  },
  {
   "attachments": {},
   "cell_type": "markdown",
   "metadata": {},
   "source": [
    "> List items are ordered, changeable, and allow duplicate values.\n",
    "\n",
    "> List items are indexed, the first item has index [0], the second item has index [1] etc.\n",
    "\n",
    "> When we say that lists are ordered, it means that the items have a defined order, and that order will not change.\n",
    "\n",
    "> If you add new items to a list, the new items will be placed at the end of the list.\n",
    "\n",
    "> The list is changeable, meaning that we can change, add, and remove items in a list after it has been created.\n",
    "\n",
    "> Since lists are indexed, lists can have items with the same value:"
   ]
  },
  {
   "cell_type": "code",
   "execution_count": null,
   "metadata": {},
   "outputs": [],
   "source": [
    "# list example \n",
    "\n",
    "mylist = [\"apple\", \"banana\", \"cherry\"]"
   ]
  },
  {
   "cell_type": "code",
   "execution_count": null,
   "metadata": {},
   "outputs": [],
   "source": [
    "# Using the list() constructor to make a List:\n",
    "\n",
    "thislist = list((\"apple\", \"banana\", \"cherry\")) # note the double round-brackets"
   ]
  },
  {
   "cell_type": "code",
   "execution_count": null,
   "metadata": {},
   "outputs": [],
   "source": [
    "# Return the third, fourth, and fifth item:\n",
    "#Note: The search will start at index 2 (included) and end at index 5 (not included).\n",
    "\n",
    "thislist = [\"apple\", \"banana\", \"cherry\", \"orange\", \"kiwi\", \"melon\", \"mango\"]\n",
    "print(thislist[2:5])"
   ]
  },
  {
   "cell_type": "code",
   "execution_count": 1,
   "metadata": {},
   "outputs": [
    {
     "name": "stdout",
     "output_type": "stream",
     "text": [
      "Yes, 'apple' is in the fruits list\n"
     ]
    }
   ],
   "source": [
    "# Check if \"apple\" is present in the list:\n",
    "\n",
    "thislist = [\"apple\", \"banana\", \"cherry\"]\n",
    "if \"apple\" in thislist:\n",
    "  print(\"Yes, 'apple' is in the fruits list\")"
   ]
  },
  {
   "cell_type": "code",
   "execution_count": null,
   "metadata": {},
   "outputs": [],
   "source": [
    "# Change the second item:\n",
    "\n",
    "thislist = [\"apple\", \"banana\", \"cherry\"]\n",
    "thislist[1] = \"blackcurrant\""
   ]
  },
  {
   "cell_type": "code",
   "execution_count": 2,
   "metadata": {},
   "outputs": [],
   "source": [
    "# Insert \"watermelon\" as the third item:\n",
    "\n",
    "thislist = [\"apple\", \"banana\", \"cherry\"]\n",
    "thislist.insert(2, \"watermelon\")"
   ]
  },
  {
   "cell_type": "code",
   "execution_count": 3,
   "metadata": {},
   "outputs": [],
   "source": [
    "#To add an item to the end of the list, use the append() method:\n",
    "\n",
    "thislist = [\"apple\", \"banana\", \"cherry\"]\n",
    "thislist.append(\"orange\")"
   ]
  },
  {
   "cell_type": "code",
   "execution_count": null,
   "metadata": {},
   "outputs": [],
   "source": [
    "# to remove items from the list \n",
    "\n",
    "thislist = [\"apple\", \"banana\", \"cherry\"]\n",
    "thislist.remove(\"banana\")"
   ]
  },
  {
   "cell_type": "code",
   "execution_count": 4,
   "metadata": {},
   "outputs": [
    {
     "data": {
      "text/plain": [
       "'banana'"
      ]
     },
     "execution_count": 4,
     "metadata": {},
     "output_type": "execute_result"
    }
   ],
   "source": [
    "# The pop() method removes the specified index. If you do not specify the index, the pop() method removes the last item\n",
    "\n",
    "thislist = [\"apple\", \"banana\", \"cherry\"]\n",
    "thislist.pop(1)"
   ]
  },
  {
   "cell_type": "code",
   "execution_count": null,
   "metadata": {},
   "outputs": [],
   "source": [
    "# to delete the list\n",
    "thislist = [\"apple\", \"banana\", \"cherry\"]\n",
    "del thislist"
   ]
  },
  {
   "cell_type": "code",
   "execution_count": null,
   "metadata": {},
   "outputs": [],
   "source": [
    "# The clear() method empties the list.\n",
    "thislist = [\"apple\", \"banana\", \"cherry\"]\n",
    "thislist.clear()\n"
   ]
  },
  {
   "cell_type": "code",
   "execution_count": 5,
   "metadata": {},
   "outputs": [
    {
     "name": "stdout",
     "output_type": "stream",
     "text": [
      "apple\n",
      "banana\n",
      "cherry\n"
     ]
    }
   ],
   "source": [
    "# looping through items in the list\n",
    "\n",
    "thislist = [\"apple\", \"banana\", \"cherry\"]\n",
    "for x in thislist:\n",
    "  print(x)"
   ]
  },
  {
   "cell_type": "code",
   "execution_count": 6,
   "metadata": {},
   "outputs": [
    {
     "name": "stdout",
     "output_type": "stream",
     "text": [
      "apple\n",
      "banana\n",
      "cherry\n"
     ]
    }
   ],
   "source": [
    "# Print all items, using a while loop to go through all the index numbers\n",
    "\n",
    "thislist = [\"apple\", \"banana\", \"cherry\"]\n",
    "i = 0\n",
    "while i < len(thislist):\n",
    "  print(thislist[i])\n",
    "  i = i + 1"
   ]
  },
  {
   "cell_type": "code",
   "execution_count": 8,
   "metadata": {},
   "outputs": [],
   "source": [
    "# Sort the list ascending\n",
    "\n",
    "thislist = [100, 50, 65, 82, 23]\n",
    "thislist.sort()\n",
    "\n",
    "# Sort the list descending\n",
    "\n",
    "thislist = [100, 50, 65, 82, 23]\n",
    "thislist.sort(reverse = True)"
   ]
  },
  {
   "cell_type": "code",
   "execution_count": 9,
   "metadata": {},
   "outputs": [
    {
     "name": "stdout",
     "output_type": "stream",
     "text": [
      "[50, 65, 23, 82, 100]\n"
     ]
    }
   ],
   "source": [
    "# Sort the list based on how close the number is to 50:\n",
    "\n",
    "def myfunc(n):\n",
    "  return abs(n - 50)\n",
    "\n",
    "thislist = [100, 50, 65, 82, 23]\n",
    "thislist.sort(key = myfunc)\n",
    "print(thislist)"
   ]
  },
  {
   "cell_type": "code",
   "execution_count": 10,
   "metadata": {},
   "outputs": [],
   "source": [
    "# Make a copy of a list with the copy() method:\n",
    "\n",
    "thislist = [\"apple\", \"banana\", \"cherry\"]\n",
    "mylist = thislist.copy()"
   ]
  },
  {
   "cell_type": "code",
   "execution_count": 11,
   "metadata": {},
   "outputs": [],
   "source": [
    "# Make a copy of a list with the list() method:\n",
    "\n",
    "thislist = [\"apple\", \"banana\", \"cherry\"]\n",
    "mylist = list(thislist)"
   ]
  },
  {
   "cell_type": "code",
   "execution_count": 12,
   "metadata": {},
   "outputs": [
    {
     "name": "stdout",
     "output_type": "stream",
     "text": [
      "['a', 'b', 'c', 1, 2, 3]\n"
     ]
    }
   ],
   "source": [
    "# join two lists\n",
    "\n",
    "list1 = [\"a\", \"b\", \"c\"]\n",
    "list2 = [1, 2, 3]\n",
    "\n",
    "list3 = list1 + list2\n",
    "print(list3)"
   ]
  },
  {
   "attachments": {},
   "cell_type": "markdown",
   "metadata": {},
   "source": [
    "### 8) TUPLE"
   ]
  },
  {
   "attachments": {},
   "cell_type": "markdown",
   "metadata": {},
   "source": [
    "> Tuple items are ordered, unchangeable, and allow duplicate values.\n",
    "\n",
    "> Tuple items are indexed, the first item has index [0], the second item has index [1] etc.\n",
    "\n",
    "- When we say that tuples are ordered, it means that the items have a defined order, and that order will not change.\n",
    "- Tuples are unchangeable, meaning that we cannot change, add or remove items after the tuple has been created.\n",
    "- Since tuples are indexed, they can have items with the same value:"
   ]
  },
  {
   "cell_type": "code",
   "execution_count": 13,
   "metadata": {},
   "outputs": [],
   "source": [
    "mytuple = (\"apple\", \"banana\", \"cherry\")"
   ]
  },
  {
   "attachments": {},
   "cell_type": "markdown",
   "metadata": {},
   "source": [
    "Tuples are unchangeable, meaning that you cannot change, add, or remove items once the tuple is created.\n",
    "\n",
    "But there are some workarounds. \n",
    "\n",
    "You can convert the tuple into a list, change the list, and convert the list back into a tuple."
   ]
  },
  {
   "cell_type": "code",
   "execution_count": 14,
   "metadata": {},
   "outputs": [
    {
     "name": "stdout",
     "output_type": "stream",
     "text": [
      "('apple', 'kiwi', 'cherry')\n"
     ]
    }
   ],
   "source": [
    "# convert tuple to list to change items \n",
    "# and revert back to tuples\n",
    "\n",
    "x = (\"apple\", \"banana\", \"cherry\")\n",
    "y = list(x)\n",
    "y[1] = \"kiwi\"\n",
    "x = tuple(y)\n",
    "\n",
    "print(x)"
   ]
  },
  {
   "attachments": {},
   "cell_type": "markdown",
   "metadata": {},
   "source": [
    "### 9)  SET"
   ]
  },
  {
   "attachments": {},
   "cell_type": "markdown",
   "metadata": {},
   "source": [
    "Set items are unordered, unchangeable, and do not allow duplicate values.\n",
    "\n",
    "Unordered means that the items in a set do not have a defined order.\n",
    "\n",
    "Set items can appear in a different order every time you use them, and cannot be referred to by index or key.\n",
    "\n",
    "Set items are unchangeable, meaning that we cannot change the items after the set has been created.\n",
    "\n",
    "Once a set is created, you cannot change its items, but you can remove items and add new items."
   ]
  },
  {
   "cell_type": "code",
   "execution_count": null,
   "metadata": {},
   "outputs": [],
   "source": [
    "myset = {\"apple\", \"banana\", \"cherry\"}"
   ]
  },
  {
   "cell_type": "code",
   "execution_count": 15,
   "metadata": {},
   "outputs": [
    {
     "name": "stdout",
     "output_type": "stream",
     "text": [
      "{'apple', 'cherry', 'banana'}\n"
     ]
    }
   ],
   "source": [
    "# Duplicate values will be ignored:\n",
    "\n",
    "thisset = {\"apple\", \"banana\", \"cherry\", \"apple\"}\n",
    "\n",
    "print(thisset)"
   ]
  },
  {
   "attachments": {},
   "cell_type": "markdown",
   "metadata": {},
   "source": [
    "### 10) DICTIONARY"
   ]
  },
  {
   "attachments": {},
   "cell_type": "markdown",
   "metadata": {},
   "source": [
    "When we say that dictionaries are ordered, it means that the items have a defined order, and that order will not change.\n",
    "\n",
    "Unordered means that the items does not have a defined order, you cannot refer to an item by using an index.\n",
    "\n",
    "Dictionaries are changeable, meaning that we can change, add or remove items after the dictionary has been created.\n",
    "\n",
    "Duplicates Not Allowed. Dictionaries cannot have two items with the same key"
   ]
  },
  {
   "cell_type": "code",
   "execution_count": 16,
   "metadata": {},
   "outputs": [
    {
     "name": "stdout",
     "output_type": "stream",
     "text": [
      "{'brand': 'Ford', 'model': 'Mustang', 'year': 1964}\n"
     ]
    }
   ],
   "source": [
    "thisdict = {\n",
    "  \"brand\": \"Ford\",\n",
    "  \"model\": \"Mustang\",\n",
    "  \"year\": 1964\n",
    "}\n",
    "print(thisdict)"
   ]
  },
  {
   "cell_type": "code",
   "execution_count": 17,
   "metadata": {},
   "outputs": [],
   "source": [
    "# Using the dict() method to make a dictionary:\n",
    "\n",
    "thisdict = dict(name = \"John\", age = 36, country = \"Norway\")"
   ]
  },
  {
   "cell_type": "code",
   "execution_count": 1,
   "metadata": {},
   "outputs": [],
   "source": [
    "#Change the \"year\" to 2018:\n",
    "\n",
    "thisdict = {\n",
    "  \"brand\": \"Ford\",\n",
    "  \"model\": \"Mustang\",\n",
    "  \"year\": 1964\n",
    "}\n",
    "thisdict[\"year\"] = 2018"
   ]
  },
  {
   "cell_type": "code",
   "execution_count": 2,
   "metadata": {},
   "outputs": [
    {
     "data": {
      "text/plain": [
       "'Mustang'"
      ]
     },
     "execution_count": 2,
     "metadata": {},
     "output_type": "execute_result"
    }
   ],
   "source": [
    "# the pop() method removes the item with the specified key name:\n",
    "\n",
    "thisdict = {\n",
    "  \"brand\": \"Ford\",\n",
    "  \"model\": \"Mustang\",\n",
    "  \"year\": 1964\n",
    "}\n",
    "thisdict.pop(\"model\")\n",
    "\n",
    "\n",
    "# removes the last inserted item\n",
    "thisdict.popitem()"
   ]
  },
  {
   "cell_type": "code",
   "execution_count": 4,
   "metadata": {},
   "outputs": [],
   "source": [
    "\n",
    "thisdict = {\n",
    "  \"brand\": \"Ford\",\n",
    "  \"model\": \"Mustang\",\n",
    "  \"year\": 1964\n",
    "}\n",
    "\n",
    "# empties the dictionary\n",
    "thisdict.clear()\n",
    "\n",
    "# del to delete the dictionary\n",
    "\n",
    "del thisdict\n"
   ]
  },
  {
   "attachments": {},
   "cell_type": "markdown",
   "metadata": {},
   "source": [
    "- **List** is a collection which is ordered and changeable. Allows duplicate members.\n",
    "- **Tuple** is a collection which is ordered and unchangeable. Allows duplicate members.\n",
    "- **Set** is a collection which is unordered, unchangeable, and unindexed. No duplicate members.\n",
    "- **Dictionary** is a collection which is ordered and changeable. No duplicate members."
   ]
  },
  {
   "attachments": {},
   "cell_type": "markdown",
   "metadata": {},
   "source": [
    "Lists:\n",
    "\n",
    "- Use lists when you need an ordered collection of items and you want to be able to modify the elements (add, remove, modify).\n",
    "- Lists are useful when you need to maintain the order of elements and perform operations like appending, indexing, and slicing.\n",
    "\n",
    "Tuples:\n",
    "\n",
    "- Use tuples when you want to store a group of related values that should not be changed (immutable).\n",
    "- Tuples are useful when you want to ensure the integrity of the data and prevent accidental modifications.\n",
    "- Tuples can be used as keys in dictionaries because they are hashable (immutable).\n",
    "\n",
    "Sets:\n",
    "\n",
    "- Use sets when you need to store a collection of unique elements, and you want to perform set operations like union, intersection, and difference.\n",
    "- Sets are useful when you want to eliminate duplicate values from a collection or check for membership efficiently.\n",
    "- Sets are unordered, so if the order of elements is important, you should use lists or tuples instead.\n",
    "\n",
    "Dictionaries:\n",
    "\n",
    "- Use dictionaries when you need to store key-value pairs and quickly retrieve values based on their keys.\n",
    "- Dictionaries are useful when you want to associate data with specific labels or identifiers.\n",
    "- Dictionaries provide efficient key-based lookups and are commonly used in scenarios where you need to store and retrieve data by unique keys."
   ]
  },
  {
   "attachments": {},
   "cell_type": "markdown",
   "metadata": {},
   "source": [
    "### 11) IF ELSE"
   ]
  },
  {
   "attachments": {},
   "cell_type": "markdown",
   "metadata": {},
   "source": [
    "Python supports the usual logical conditions from mathematics:\n",
    "\n",
    "- Equals: a == b\n",
    "- Not Equals: a != b\n",
    "- Less than: a < b\n",
    "- Less than or equal to: a <= b\n",
    "- Greater than: a > b\n",
    "- Greater than or equal to: a >= b\n",
    "- These conditions can be used in several ways, most commonly in \"if statements\" and loops.\n",
    "\n",
    "\n",
    "An \"if statement\" is written by using the if keyword."
   ]
  },
  {
   "cell_type": "code",
   "execution_count": 6,
   "metadata": {},
   "outputs": [
    {
     "name": "stdout",
     "output_type": "stream",
     "text": [
      "a is greater than b\n"
     ]
    }
   ],
   "source": [
    "a = 200\n",
    "b = 33\n",
    "if b > a:\n",
    "  print(\"b is greater than a\")\n",
    "elif a == b:\n",
    "  print(\"a and b are equal\")\n",
    "else:\n",
    "  print(\"a is greater than b\")"
   ]
  },
  {
   "attachments": {},
   "cell_type": "markdown",
   "metadata": {},
   "source": [
    "### 12) FUNCTIONS"
   ]
  },
  {
   "cell_type": "code",
   "execution_count": 7,
   "metadata": {},
   "outputs": [
    {
     "name": "stdout",
     "output_type": "stream",
     "text": [
      "Hello from a function\n"
     ]
    }
   ],
   "source": [
    "def my_function():\n",
    "  print(\"Hello from a function\")\n",
    "\n",
    "my_function()"
   ]
  },
  {
   "cell_type": "code",
   "execution_count": 10,
   "metadata": {},
   "outputs": [
    {
     "name": "stdout",
     "output_type": "stream",
     "text": [
      "Burak\n",
      "Tobias\n",
      "Peter\n"
     ]
    }
   ],
   "source": [
    "# Information can be passed into functions as arguments.\n",
    "\n",
    "# Arguments are specified after the function name, inside the parentheses. You can add as many arguments as you want, just separate them with a comma.\n",
    "\n",
    "# The following example has a function with one argument (fname). When the function is called, we pass along a first name, which is used inside the function to print the full name:\n",
    "\n",
    "def my_function(fname):\n",
    "  print(fname)\n",
    "\n",
    "my_function(\"Burak\")\n",
    "my_function(\"Tobias\")\n",
    "my_function(\"Peter\")"
   ]
  },
  {
   "attachments": {},
   "cell_type": "markdown",
   "metadata": {},
   "source": [
    " From a function's perspective:\n",
    "\n",
    "A parameter is the variable listed inside the parentheses in the function definition.\n",
    "\n",
    "An argument is the value that is sent to the function when it is called."
   ]
  },
  {
   "cell_type": "code",
   "execution_count": 11,
   "metadata": {},
   "outputs": [
    {
     "name": "stdout",
     "output_type": "stream",
     "text": [
      "The youngest child is Linus\n"
     ]
    }
   ],
   "source": [
    "# If the number of arguments is unknown, add a * before the parameter name:\n",
    "\n",
    "def my_function(*kids):\n",
    "  print(\"The youngest child is \" + kids[2])\n",
    "\n",
    "my_function(\"Emil\", \"Tobias\", \"Linus\")"
   ]
  },
  {
   "attachments": {},
   "cell_type": "markdown",
   "metadata": {},
   "source": [
    "A lambda function is a small anonymous function.\n",
    "\n",
    "A lambda function can take any number of arguments, but can only have one expression."
   ]
  },
  {
   "cell_type": "code",
   "execution_count": 12,
   "metadata": {},
   "outputs": [
    {
     "name": "stdout",
     "output_type": "stream",
     "text": [
      "13\n"
     ]
    }
   ],
   "source": [
    "x = lambda a, b, c : a + b + c\n",
    "print(x(5, 6, 2))"
   ]
  },
  {
   "attachments": {},
   "cell_type": "markdown",
   "metadata": {},
   "source": [
    "### 13) DATES"
   ]
  },
  {
   "attachments": {},
   "cell_type": "markdown",
   "metadata": {},
   "source": [
    "A date in Python is not a data type of its own, but we can import a module named datetime to work with dates as date objects."
   ]
  },
  {
   "cell_type": "code",
   "execution_count": 14,
   "metadata": {},
   "outputs": [
    {
     "name": "stdout",
     "output_type": "stream",
     "text": [
      "2023-02-03 12:31:17.013264\n"
     ]
    }
   ],
   "source": [
    "import datetime\n",
    "\n",
    "# current date\n",
    "x = datetime.datetime.now()\n",
    "print(x)"
   ]
  },
  {
   "cell_type": "code",
   "execution_count": 15,
   "metadata": {},
   "outputs": [
    {
     "name": "stdout",
     "output_type": "stream",
     "text": [
      "2023\n",
      "Friday\n"
     ]
    }
   ],
   "source": [
    "# Return the year and name of weekday:\n",
    "\n",
    "import datetime\n",
    "\n",
    "x = datetime.datetime.now()\n",
    "\n",
    "print(x.year)\n",
    "print(x.strftime(\"%A\"))"
   ]
  },
  {
   "attachments": {},
   "cell_type": "markdown",
   "metadata": {},
   "source": [
    "The datetime object has a method for formatting date objects into readable strings.\n",
    "\n",
    "The method is called strftime(), and takes one parameter, format, to specify the format of the returned string:"
   ]
  },
  {
   "cell_type": "code",
   "execution_count": 16,
   "metadata": {},
   "outputs": [
    {
     "name": "stdout",
     "output_type": "stream",
     "text": [
      "June\n"
     ]
    }
   ],
   "source": [
    "import datetime\n",
    "\n",
    "x = datetime.datetime(2018, 6, 1)\n",
    "\n",
    "print(x.strftime(\"%B\"))"
   ]
  },
  {
   "attachments": {},
   "cell_type": "markdown",
   "metadata": {},
   "source": [
    "DATE FORMAT REFERENCE\n",
    "\n",
    "| Format | Example    | Definition              |\n",
    "|--------|------------|-------------------------|\n",
    "| %a     | Wed        | (weekday short)         |\n",
    "| %A     | Wednesday  | (weekday full)          |\n",
    "| %w     | 3          | (weekday as a number)   |\n",
    "| %d     | 31         | (day of month)          |\n",
    "| %b     | Dec        | (month name short)      |\n",
    "| %B     | December   | (month name full)       |\n",
    "| %m     | 12         | (month num)             |\n",
    "| %y     | 23         | (year short version)    |\n",
    "| %Y     | 2023       | (year full version)     |\n",
    "| %x     | 12/31/2023 | (local version of date) |\n"
   ]
  },
  {
   "attachments": {},
   "cell_type": "markdown",
   "metadata": {},
   "source": [
    "### 14) FILE HANDLING"
   ]
  },
  {
   "attachments": {},
   "cell_type": "markdown",
   "metadata": {},
   "source": [
    "The key function for working with files in Python is the open() function.\n",
    "\n",
    "The open() function takes two parameters; filename, and mode.\n",
    "\n",
    "There are four different methods (modes) for opening a file:\n",
    "\n",
    "> \"r\" - Read - Default value. Opens a file for reading, error if the file does not exist\n",
    "\n",
    "> \"a\" - Append - Opens a file for appending, creates the file if it does not exist\n",
    "\n",
    "> \"w\" - Write - Opens a file for writing, creates the file if it does not exist\n",
    "\n",
    "> \"x\" - Create - Creates the specified file, returns an error if the file exists"
   ]
  },
  {
   "cell_type": "code",
   "execution_count": 19,
   "metadata": {},
   "outputs": [
    {
     "data": {
      "text/plain": [
       "<function TextIOWrapper.close()>"
      ]
     },
     "execution_count": 19,
     "metadata": {},
     "output_type": "execute_result"
    }
   ],
   "source": [
    "\n",
    "f = open(\"demofile.txt\", \"a\")\n",
    "\n",
    "# closes the file\n",
    "f.close()"
   ]
  }
 ],
 "metadata": {
  "kernelspec": {
   "display_name": "Python 3",
   "language": "python",
   "name": "python3"
  },
  "language_info": {
   "codemirror_mode": {
    "name": "ipython",
    "version": 3
   },
   "file_extension": ".py",
   "mimetype": "text/x-python",
   "name": "python",
   "nbconvert_exporter": "python",
   "pygments_lexer": "ipython3",
   "version": "3.10.8"
  },
  "orig_nbformat": 4,
  "vscode": {
   "interpreter": {
    "hash": "06fc0a7d8e562541745d7b36613ba10301b07ff693e09dfdd66d0aba5ccb1175"
   }
  }
 },
 "nbformat": 4,
 "nbformat_minor": 2
}
