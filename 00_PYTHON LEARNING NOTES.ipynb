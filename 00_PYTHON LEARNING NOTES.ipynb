{
 "cells": [
  {
   "attachments": {},
   "cell_type": "markdown",
   "metadata": {},
   "source": [
    "# PYTHON  LEARNING NOTES\n",
    "\n",
    "> CREATED BY BI-FI BLOGS\n",
    "\n",
    "> DATE : JANUARY 2023\n",
    "\n",
    "[Visit our blog for more Python Tutorials and Tips](https://bifiblogs.blogspot.com/)"
   ]
  },
  {
   "attachments": {},
   "cell_type": "markdown",
   "metadata": {},
   "source": [
    "## TABLE OF CONTENTS"
   ]
  },
  {
   "attachments": {},
   "cell_type": "markdown",
   "metadata": {},
   "source": [
    "1. PYTHON BASICS\n",
    "1. VARIABLES\n",
    "1. DATA TYPES\n",
    "1. NUMBERS\n",
    "1. STRING\n",
    "1. OPERATORS\n",
    "1. LIST\n",
    "1. TUPLE\n",
    "1. DICTIONARY\n",
    "1. IF ELSE\n",
    "1. LOOPS\n",
    "1. FUNCTIONS\n",
    "1. LAMBDA\n",
    "1. ITERATOR\n",
    "1. DATES\n",
    "1. MATH\n",
    "1. FILE HANDLING\n",
    "1. READ DATA\n",
    "1. WRITE DATA\n"
   ]
  },
  {
   "attachments": {},
   "cell_type": "markdown",
   "metadata": {},
   "source": [
    "### 1) PYTHON BASICS"
   ]
  },
  {
   "cell_type": "code",
   "execution_count": 2,
   "metadata": {},
   "outputs": [
    {
     "name": "stdout",
     "output_type": "stream",
     "text": [
      "Hello World!\n"
     ]
    }
   ],
   "source": [
    "print(\"Hello World!\")"
   ]
  },
  {
   "attachments": {},
   "cell_type": "markdown",
   "metadata": {},
   "source": [
    "To use comments in Python, use # symbol"
   ]
  },
  {
   "cell_type": "code",
   "execution_count": 3,
   "metadata": {},
   "outputs": [
    {
     "name": "stdout",
     "output_type": "stream",
     "text": [
      "Hello, World!\n"
     ]
    }
   ],
   "source": [
    "print(\"Hello, World!\") #This is a comment"
   ]
  },
  {
   "cell_type": "code",
   "execution_count": 4,
   "metadata": {},
   "outputs": [
    {
     "data": {
      "text/plain": [
       "' \\nthis is a \\nmulti line\\ncomment\\n'"
      ]
     },
     "execution_count": 4,
     "metadata": {},
     "output_type": "execute_result"
    }
   ],
   "source": [
    "\"\"\" \n",
    "this is a \n",
    "multi line\n",
    "comment\n",
    "\"\"\""
   ]
  },
  {
   "attachments": {},
   "cell_type": "markdown",
   "metadata": {},
   "source": [
    "### 2) VARIABLES"
   ]
  },
  {
   "cell_type": "code",
   "execution_count": null,
   "metadata": {},
   "outputs": [],
   "source": [
    "# Python has no command for declaring a variable.\n",
    "\n",
    "# A variable is created the moment you first assign a value to it.\n",
    "\n",
    "x = 5\n",
    "y = \"John\"\n",
    "print(x)\n",
    "print(y)"
   ]
  },
  {
   "cell_type": "code",
   "execution_count": 6,
   "metadata": {},
   "outputs": [
    {
     "name": "stdout",
     "output_type": "stream",
     "text": [
      "<class 'str'>\n",
      "<class 'int'>\n",
      "<class 'float'>\n"
     ]
    }
   ],
   "source": [
    "# Variables do not need to be declared with any particular type, and can even change type after they have been set.\n",
    "\n",
    "x = 4       # x is of type int\n",
    "x = \"Sally\" # x is now of type str\n",
    "\n",
    "\n",
    "# If you want to specify the data type of a variable, this can be done with casting.\n",
    "\n",
    "x = str(3)    # x will be '3'\n",
    "y = int(3)    # y will be 3\n",
    "z = float(3)  # z will be 3.0\n",
    "\n",
    "\n",
    "# You can get the data type of a variable with the type() function.\n",
    "\n",
    "print(type(x))\n",
    "print(type(y))\n",
    "print(type(z))\n"
   ]
  },
  {
   "cell_type": "code",
   "execution_count": 7,
   "metadata": {},
   "outputs": [],
   "source": [
    "# Variable names are case-sensitive\n",
    "# This will create two variables:\n",
    "a = 4\n",
    "A = \"Sally\"\n",
    "#A will not overwrite a\n"
   ]
  },
  {
   "attachments": {},
   "cell_type": "markdown",
   "metadata": {},
   "source": [
    "> A variable can have a short name (like x and y) or a more descriptive name (age, carname, total_volume). Rules for Python variables:\n",
    "\n",
    "- A variable name must start with a letter or the underscore character\n",
    "\n",
    "- A variable name cannot start with a number\n",
    "\n",
    "- A variable name can only contain alpha-numeric characters and underscores (A-z, 0-9, and _ )\n",
    "\n",
    "- Variable names are case-sensitive (age, Age and AGE are three different variables)"
   ]
  },
  {
   "attachments": {},
   "cell_type": "markdown",
   "metadata": {},
   "source": [
    "> Legal variable names:\n",
    "\n",
    "- myvar = \"John\"\n",
    "\n",
    "- my_var = \"John\"\n",
    "\n",
    "- _my_var = \"John\"\n",
    "\n",
    "- myVar = \"John\"\n",
    "\n",
    "- MYVAR = \"John\"\n",
    "\n",
    "- myvar2 = \"John\"\n",
    "\n",
    "` Illegal variable names`\n",
    "\n",
    "- ` 2myvar = \"John\"`\n",
    "\n",
    "- ` my-var = \"John\"`\n",
    "\n",
    "- ` Illegal variable names`\n",
    "\n",
    "- ` my var = \"John\"`\n",
    "\n"
   ]
  },
  {
   "cell_type": "code",
   "execution_count": null,
   "metadata": {},
   "outputs": [],
   "source": [
    "# Python allows you to assign values to multiple variables in one line:\n",
    "# Example\n",
    "x, y, z = \"Orange\", \"Banana\", \"Cherry\"\n",
    "print(x)\n",
    "print(y)\n",
    "print(z)\n",
    "\n",
    "\n",
    "# And you can assign the same value to multiple variables in one line:\n",
    "#Example\n",
    "x = y = z = \"Orange\"\n",
    "print(x)\n",
    "print(y)\n",
    "print(z)\n"
   ]
  },
  {
   "attachments": {},
   "cell_type": "markdown",
   "metadata": {},
   "source": [
    "### 3) DATA TYPES"
   ]
  },
  {
   "attachments": {},
   "cell_type": "markdown",
   "metadata": {},
   "source": [
    "> Python has the following data types built-in by default, in these categories:\n",
    "\n",
    "- > Text Type:\tstr\n",
    "\n",
    "- > Numeric Types:\tint, float, complex\n",
    "\n",
    "- > Sequence Types:\tlist, tuple, range\n",
    "\n",
    "- > Mapping Type:\tdict\n",
    "\n",
    "- > Set Types:\tset, frozenset\n",
    "\n",
    "- > Boolean Type:\tbool\n",
    "\n",
    "- > Binary Types:\tbytes, bytearray, memoryview\n",
    "\n",
    "- > None Type:\tNoneType"
   ]
  },
  {
   "cell_type": "code",
   "execution_count": null,
   "metadata": {},
   "outputs": [],
   "source": [
    "# Print the data type of the variable x:\n",
    "\n",
    "x = 5\n",
    "print(type(x))"
   ]
  },
  {
   "attachments": {},
   "cell_type": "markdown",
   "metadata": {},
   "source": [
    "### 4) NUMBERS"
   ]
  },
  {
   "cell_type": "code",
   "execution_count": null,
   "metadata": {},
   "outputs": [],
   "source": [
    "# There are three numeric types in Python:\n",
    "\n",
    "int\n",
    "float\n",
    "complex\n",
    "\n",
    "# Variables of numeric types are created when you assign a value to them:\n",
    "x = 1    # int\n",
    "y = 2.8  # float\n",
    "z = 1j   # complex"
   ]
  },
  {
   "cell_type": "code",
   "execution_count": null,
   "metadata": {},
   "outputs": [],
   "source": [
    "# Int, or integer, is a whole number, positive or negative, without decimals, of unlimited length.\n",
    "x = 1\n",
    "y = 35656222554887711\n",
    "z = -3255522\n",
    "\n",
    "\n",
    "# Float, or \"floating point number\" is a number, positive or negative, containing one or more decimals.\n",
    "x = 1.10\n",
    "y = 1.0\n",
    "z = -35.59\n",
    "\n",
    "\n",
    "# Float can also be scientific numbers with an \"e\" to indicate the power of 10.\n",
    "x = 35e3\n",
    "y = 12E4\n",
    "z = -87.7e100\n",
    "\n",
    "\n",
    "# Complex numbers are written with a \"j\" as the imaginary part:\n",
    "x = 3+5j\n",
    "y = 5j\n",
    "z = -5j"
   ]
  },
  {
   "cell_type": "code",
   "execution_count": null,
   "metadata": {},
   "outputs": [],
   "source": [
    "# You can convert from one type to another with the int(), float(), and complex() methods:\n",
    "\n",
    "# Convert from one type to another:\n",
    "\n",
    "x = 1    # int\n",
    "y = 2.8  # float\n",
    "z = 1j   # complex\n",
    "\n",
    "#convert from int to float:\n",
    "a = float(x)\n",
    "\n",
    "#convert from float to int:\n",
    "b = int(y)\n",
    "\n",
    "#convert from int to complex:\n",
    "c = complex(x)\n"
   ]
  },
  {
   "attachments": {},
   "cell_type": "markdown",
   "metadata": {},
   "source": [
    "### 5) STRING"
   ]
  },
  {
   "cell_type": "code",
   "execution_count": null,
   "metadata": {},
   "outputs": [],
   "source": [
    "# 'hello' is the same as \"hello\".\n",
    "\n",
    "# You can use three double quotes:\n",
    "\n",
    "a = \"\"\"Lorem ipsum dolor sit amet,\n",
    "consectetur adipiscing elit,\n",
    "sed do eiusmod tempor incididunt\n",
    "ut labore et dolore magna aliqua.\"\"\""
   ]
  },
  {
   "cell_type": "code",
   "execution_count": null,
   "metadata": {},
   "outputs": [],
   "source": [
    "# Get the character at position 1 (remember that the first character has the position 0):\n",
    "\n",
    "a = \"Hello, World!\"\n",
    "print(a[1])"
   ]
  },
  {
   "cell_type": "code",
   "execution_count": null,
   "metadata": {},
   "outputs": [],
   "source": [
    "# The len() function returns the length of a string:\n",
    "\n",
    "a = \"Hello, World!\"\n",
    "print(len(a))"
   ]
  },
  {
   "cell_type": "code",
   "execution_count": null,
   "metadata": {},
   "outputs": [],
   "source": [
    "# Check if \"free\" is present in the following text:\n",
    "\n",
    "txt = \"The best things in life are free!\"\n",
    "print(\"free\" in txt)"
   ]
  },
  {
   "cell_type": "code",
   "execution_count": null,
   "metadata": {},
   "outputs": [],
   "source": [
    "# You can return a range of characters by using the slice syntax.\n",
    "\n",
    "# Specify the start index and the end index, separated by a colon, to return a part of the string.\n",
    "\n",
    "# Get the characters from position 2 to position 5 (not included):\n",
    "b = \"Hello, World!\"\n",
    "print(b[2:5])\n",
    "\n",
    "\n",
    "# Get the characters from the start to position 5 (not included):\n",
    "b = \"Hello, World!\"\n",
    "print(b[:5])\n",
    "\n",
    "\n",
    "# Get the characters from position 2, and all the way to the end:\n",
    "b = \"Hello, World!\"\n",
    "print(b[2:])\n",
    "\n"
   ]
  },
  {
   "cell_type": "code",
   "execution_count": null,
   "metadata": {},
   "outputs": [],
   "source": [
    "# The upper() method returns the string in upper case:\n",
    "a = \"Hello, World!\"\n",
    "print(a.upper())\n",
    "\n",
    "\n",
    "# The lower() method returns the string in lower case:\n",
    "b = \"Hello, World!\"\n",
    "print(b.lower())\n",
    "\n",
    "\n",
    "# The strip() method removes any whitespace from the beginning or the end:\n",
    "c = \" Hello, World! \"\n",
    "print(c.strip()) # returns \"Hello, World!\"\n",
    "\n",
    "\n",
    "# The replace() method replaces a string with another string:\n",
    "d = \"Hello, World!\"\n",
    "print(d.replace(\"H\", \"J\"))\n",
    "\n",
    "\n",
    "# The split() method splits the string into substrings if it finds instances of the separator:\n",
    "e = \"Hello, World!\"\n",
    "print(e.split(\",\")) # returns ['Hello', ' World!']\n"
   ]
  },
  {
   "cell_type": "code",
   "execution_count": null,
   "metadata": {},
   "outputs": [],
   "source": [
    "# To concatenate, or combine, two strings you can use the + operator.\n",
    "a = \"Hello\"\n",
    "b = \"World\"\n",
    "c = a + b\n",
    "print(c)\n",
    "\n",
    "# To add a space between them, add a \" \"\n",
    "a = \"Hello\"\n",
    "b = \"World\"\n",
    "c = a + \" \" + b\n",
    "print(c)"
   ]
  },
  {
   "cell_type": "code",
   "execution_count": null,
   "metadata": {},
   "outputs": [],
   "source": [
    "# Use the format() method to insert numbers into strings:\n",
    "\n",
    "age = 36\n",
    "txt = \"My name is John, and I am {}\"\n",
    "print(txt.format(age))\n",
    "\n",
    "\n",
    "# The format() method takes unlimited number of arguments, and are placed into the respective placeholders:\n",
    "quantity = 3\n",
    "itemno = 567\n",
    "price = 49.95\n",
    "myorder = \"I want {} pieces of item {} for {} dollars.\"\n",
    "print(myorder.format(quantity, itemno, price))"
   ]
  },
  {
   "cell_type": "code",
   "execution_count": null,
   "metadata": {},
   "outputs": [],
   "source": [
    "# You will get an error if you use double quotes inside a string that is surrounded by double quotes:\n",
    "# txt = \"We are the so-called \"Vikings\" from the north.\"\n",
    "\n",
    "# To fix this problem, use the escape character \\\":\n",
    "# The escape character allows you to use double quotes when you normally would not be allowed:\n",
    "\n",
    "txt = \"We are the so-called \\\"Vikings\\\" from the north.\"\n",
    "\n",
    "#   \\n\tNew Line\n",
    "#   \\'\tSingle Quote"
   ]
  },
  {
   "attachments": {},
   "cell_type": "markdown",
   "metadata": {},
   "source": [
    "| STRING  METHODS        | DEFINITION                                                                                    |\n",
    "|----------------|-----------------------------------------------------------------------------------------------|\n",
    "| capitalize()   | Converts the first character to upper case                                                    |\n",
    "| casefold()     | Converts string into lower case                                                               |\n",
    "| center()       | Returns a centered string                                                                     |\n",
    "| count()        | Returns the number of times a specified value occurs in a string                              |\n",
    "| encode()       | Returns an encoded version of the string                                                      |\n",
    "| endswith()     | Returns true if the string ends with the specified value                                      |\n",
    "| expandtabs()   | Sets the tab size of the string                                                               |\n",
    "| find()         | Searches the string for a specified value and returns the position of where it was found      |\n",
    "| format()       | Formats specified values in a string                                                          |\n",
    "| format_map()   | Formats specified values in a string                                                          |\n",
    "| index()        | Searches the string for a specified value and returns the position of where it was found      |\n",
    "| isalnum()      | Returns True if all characters in the string are alphanumeric                                 |\n",
    "| isalpha()      | Returns True if all characters in the string are in the alphabet                              |\n",
    "| isdecimal()    | Returns True if all characters in the string are decimals                                     |\n",
    "| isdigit()      | Returns True if all characters in the string are digits                                       |\n",
    "| isidentifier() | Returns True if the string is an identifier                                                   |\n",
    "| islower()      | Returns True if all characters in the string are lower case                                   |\n",
    "| isnumeric()    | Returns True if all characters in the string are numeric                                      |\n",
    "| isprintable()  | Returns True if all characters in the string are printable                                    |\n",
    "| isspace()      | Returns True if all characters in the string are whitespaces                                  |\n",
    "| istitle()      | Returns True if the string follows the rules of a title                                       |\n",
    "| isupper()      | Returns True if all characters in the string are upper case                                   |\n",
    "| join()         | Joins the elements of an iterable to the end of the string                                    |\n",
    "| ljust()        | Returns a left justified version of the string                                                |\n",
    "| lower()        | Converts a string into lower case                                                             |\n",
    "| lstrip()       | Returns a left trim version of the string                                                     |\n",
    "| replace()      | Returns a string where a specified value is replaced with a specified value                   |\n",
    "| rfind()        | Searches the string for a specified value and returns the last position of where it was found |\n",
    "| rpartition()   | Returns a tuple where the string is parted into three parts                                   |\n",
    "| rsplit()       | Splits the string at the specified separator, and returns a list                              |\n",
    "| rstrip()       | Returns a right trim version of the string                                                    |\n",
    "| split()        | Splits the string at the specified separator, and returns a list                              |\n",
    "| splitlines()   | Splits the string at line breaks and returns a list                                           |\n",
    "| startswith()   | Returns true if the string starts with the specified value                                    |\n",
    "| strip()        | Returns a trimmed version of the string                                                       |\n",
    "| swapcase()     | Swaps cases, lower case becomes upper case and vice versa                                     |\n",
    "| title()        | Converts the first character of each word to upper case                                       |\n",
    "| translate()    | Returns a translated string                                                                   |\n",
    "| upper()        | Converts a string into upper case                                                             |\n",
    "| zfill()        | Fills the string with a specified number of 0 values at the beginning                         |"
   ]
  },
  {
   "attachments": {},
   "cell_type": "markdown",
   "metadata": {},
   "source": [
    "### 6) OPERATORS"
   ]
  },
  {
   "attachments": {},
   "cell_type": "markdown",
   "metadata": {},
   "source": [
    "| OPERATOR | NAME           | EXAMPLE |\n",
    "|----------|----------------|---------|\n",
    "| +        | Addition       | x + y   |\n",
    "| -        | Subtraction    | x - y   |\n",
    "| *        | Multiplication | x * y   |\n",
    "| /        | Division       | x / y   |\n",
    "| %        | Modulus        | x % y   |\n",
    "| **       | Exponentiation | x ** y  |\n",
    "| //       | Floor division | x // y  |\n",
    "\n"
   ]
  },
  {
   "attachments": {},
   "cell_type": "markdown",
   "metadata": {},
   "source": [
    "### 7) LIST"
   ]
  },
  {
   "cell_type": "code",
   "execution_count": null,
   "metadata": {},
   "outputs": [],
   "source": []
  },
  {
   "cell_type": "code",
   "execution_count": null,
   "metadata": {},
   "outputs": [],
   "source": []
  },
  {
   "cell_type": "code",
   "execution_count": null,
   "metadata": {},
   "outputs": [],
   "source": []
  },
  {
   "cell_type": "code",
   "execution_count": null,
   "metadata": {},
   "outputs": [],
   "source": []
  },
  {
   "cell_type": "code",
   "execution_count": null,
   "metadata": {},
   "outputs": [],
   "source": []
  },
  {
   "cell_type": "code",
   "execution_count": null,
   "metadata": {},
   "outputs": [],
   "source": []
  },
  {
   "cell_type": "code",
   "execution_count": null,
   "metadata": {},
   "outputs": [],
   "source": []
  },
  {
   "attachments": {},
   "cell_type": "markdown",
   "metadata": {},
   "source": [
    "### 8) TUPLE"
   ]
  },
  {
   "attachments": {},
   "cell_type": "markdown",
   "metadata": {},
   "source": [
    "### 9) DICTIONARY"
   ]
  },
  {
   "attachments": {},
   "cell_type": "markdown",
   "metadata": {},
   "source": [
    "### 10) IF ELSE"
   ]
  },
  {
   "attachments": {},
   "cell_type": "markdown",
   "metadata": {},
   "source": [
    "### 11) LOOPS"
   ]
  },
  {
   "attachments": {},
   "cell_type": "markdown",
   "metadata": {},
   "source": [
    "### 12) FUNCTIONS"
   ]
  },
  {
   "attachments": {},
   "cell_type": "markdown",
   "metadata": {},
   "source": [
    "### 13) LAMBDA"
   ]
  },
  {
   "attachments": {},
   "cell_type": "markdown",
   "metadata": {},
   "source": [
    "### 14) ITERATOR"
   ]
  },
  {
   "attachments": {},
   "cell_type": "markdown",
   "metadata": {},
   "source": [
    "### 15) DATES"
   ]
  },
  {
   "attachments": {},
   "cell_type": "markdown",
   "metadata": {},
   "source": [
    "### 16) MATH"
   ]
  },
  {
   "attachments": {},
   "cell_type": "markdown",
   "metadata": {},
   "source": [
    "### 17) FILE HANDLING"
   ]
  },
  {
   "attachments": {},
   "cell_type": "markdown",
   "metadata": {},
   "source": [
    "### 18) READ DATA"
   ]
  },
  {
   "attachments": {},
   "cell_type": "markdown",
   "metadata": {},
   "source": [
    "### 19) WRITE DATA"
   ]
  },
  {
   "cell_type": "code",
   "execution_count": 1,
   "metadata": {},
   "outputs": [],
   "source": [
    "# import statements\n",
    "import pandas as pd\n",
    "import numpy as np\n",
    "import math\n",
    "import random\n",
    "import matplotlib.pyplot as plt\n"
   ]
  }
 ],
 "metadata": {
  "kernelspec": {
   "display_name": "Python 3",
   "language": "python",
   "name": "python3"
  },
  "language_info": {
   "codemirror_mode": {
    "name": "ipython",
    "version": 3
   },
   "file_extension": ".py",
   "mimetype": "text/x-python",
   "name": "python",
   "nbconvert_exporter": "python",
   "pygments_lexer": "ipython3",
   "version": "3.10.8 (tags/v3.10.8:aaaf517, Oct 11 2022, 16:50:30) [MSC v.1933 64 bit (AMD64)]"
  },
  "orig_nbformat": 4,
  "vscode": {
   "interpreter": {
    "hash": "06fc0a7d8e562541745d7b36613ba10301b07ff693e09dfdd66d0aba5ccb1175"
   }
  }
 },
 "nbformat": 4,
 "nbformat_minor": 2
}
